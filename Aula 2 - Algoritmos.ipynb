{
  "nbformat": 4,
  "nbformat_minor": 5,
  "metadata": {
    "celltoolbar": "Slideshow",
    "kernelspec": {
      "display_name": "Python 3",
      "language": "python",
      "name": "python3"
    },
    "language_info": {
      "codemirror_mode": {
        "name": "ipython",
        "version": 3
      },
      "file_extension": ".py",
      "mimetype": "text/x-python",
      "name": "python",
      "nbconvert_exporter": "python",
      "pygments_lexer": "ipython3",
      "version": "3.8.5"
    },
    "colab": {
      "provenance": []
    }
  },
  "cells": [
    {
      "cell_type": "markdown",
      "metadata": {
        "id": "close-appearance"
      },
      "source": [
        "# Aula 2 - Algoritmos e Estruturas de Controle\n",
        "\n",
        "Prof. Felipe K. Riffel\n",
        "\n",
        "PET Matemática UFSC\n",
        "\n",
        "2025.1\n"
      ],
      "id": "close-appearance"
    },
    {
      "cell_type": "markdown",
      "metadata": {
        "id": "parental-muslim"
      },
      "source": [
        "## Algoritmos\n",
        "\n",
        "Ao escrevermos um programa de computador, estamos basicamente escrevendo um algoritmo. Um algoritmo é uma sequência de passos finita com o objetivo realizar uma determinada tarefa.\n",
        "Exemplo: Exibir a soma dos números a=3 e b=5\n",
        "\n",
        "```\n",
        "Armazene na variável a o valor 3\n",
        "Armazene na variável b o valor 5\n",
        "Apresente na tela “A soma dos números é: ”\n",
        "Apresente na tela o valor de a+b\n",
        "```\n",
        "No Python esse código ficaria da seguinte forma:"
      ],
      "id": "parental-muslim"
    },
    {
      "cell_type": "code",
      "metadata": {
        "id": "radio-kennedy",
        "outputId": "1bddab0e-d93c-4c58-feb1-c5116310d162"
      },
      "source": [
        "a = 3\n",
        "b = 5\n",
        "print('A soma dos números é: ')\n",
        "print(a+b)"
      ],
      "id": "radio-kennedy",
      "execution_count": null,
      "outputs": [
        {
          "output_type": "stream",
          "text": [
            "A soma dos números é: \n",
            "8\n"
          ],
          "name": "stdout"
        }
      ]
    },
    {
      "cell_type": "markdown",
      "metadata": {
        "id": "featured-money"
      },
      "source": [
        "Perceba que as intruções que damos são limitadas aos comandos disponíveis, os quais devem ser dados passo a passo detalhadamente. Isso quer dizer que não podemos pedir ao computador simplesmente \"*some $a=3$ e $b=5$ e apresente na tela*\", preciso ser mais específico que isso. Mais adiante veremos como resumir alguns processos de um jeito mais simples.\n",
        "\n",
        "O conceito ficará mais claro à medida que fizermos mais exemplos e tivermos mais ferramentas à disposição. Para isso, vamos introduzir alguns conceitos básicos de algoritmos:\n"
      ],
      "id": "featured-money"
    },
    {
      "cell_type": "markdown",
      "metadata": {
        "id": "appreciated-landing"
      },
      "source": [
        "## Algoritmos - Estruturas de Controle\n",
        "\n",
        "\n",
        "Estruturas de controle são usadas para executar determinado bloco de instruções de acordo com uma condição, dada pelo valor lógico de uma expressão. No Python para as estruturas de controle usamos os tradicionais `if`, `else` e `elif`.\n",
        "\n",
        "O uso do `if` funciona da seguinte forma: começamos o comando escrevendo `if`, escrevemos a expressão lógica ou a variável de valor booleano que desejamos conferir, e em seguida começamos um novo bloco de código, que será executado apenas se a expressão lógica for verdadeira.\n",
        "\n",
        "```python\n",
        "if <condicao>:\n",
        "  <bloco de comando>\n",
        "```\n",
        "onde:\n",
        "- `condicao`: Variável booleana ou expressão lógica\n",
        "- `bloco de comando` Comando ou comandos executados caso a condição for verdadeira (de valor `True`)\n",
        "\n"
      ],
      "id": "appreciated-landing"
    },
    {
      "cell_type": "markdown",
      "metadata": {
        "id": "equivalent-australia"
      },
      "source": [
        "Exemplo: recebe um número, verifica e apresenta na tela se ele é positivo ou negativo (maior ou menor que 0) ou o próprio 0"
      ],
      "id": "equivalent-australia"
    },
    {
      "cell_type": "code",
      "metadata": {
        "id": "essential-semester",
        "outputId": "af6e36df-4267-41fc-dc81-6188d8b22335"
      },
      "source": [
        "inp_a = input('Insira um número qualquer: ')\n",
        "a = float(inp_a)\n",
        "if a>0:\n",
        "    print(\"Esse número é positivo\")\n",
        "if a<0:\n",
        "    print(\"Esse número é negativo\")\n",
        "if a==0:\n",
        "    print(\"Esse número é igual a 0\")"
      ],
      "id": "essential-semester",
      "execution_count": null,
      "outputs": [
        {
          "output_type": "stream",
          "text": [
            "Insira um número qualquer: 0\n",
            "Esse número é igual a 0\n"
          ],
          "name": "stdout"
        }
      ]
    },
    {
      "cell_type": "markdown",
      "metadata": {
        "id": "responsible-command"
      },
      "source": [
        "## Indentação\n",
        "\n",
        "Uma prática comum ao escrever algoritmos em qualquer linguagem de programação é a de indentação de códigos. A indentação de códigos consiste basicamente em separarmos blocos específicos do código através de espaçamento com tabulação (tecla \"Tab\"). Caso determinado pedaço de código pertença a um mesmo bloco de instrução, escrevemos cada linha do código com um espaçamento de um “Tab” no começo da linha, e com um a mais para cada bloco mais interno.\n",
        "\n"
      ],
      "id": "responsible-command"
    },
    {
      "cell_type": "markdown",
      "metadata": {
        "id": "becoming-twelve"
      },
      "source": [
        "Exemplo de código identado:"
      ],
      "id": "becoming-twelve"
    },
    {
      "cell_type": "code",
      "metadata": {
        "id": "incorporated-discussion",
        "outputId": "5dc2e9d1-195d-46c8-b778-7203314936cd"
      },
      "source": [
        "a = 0.75\n",
        "print(\"O número inserido é: \")\n",
        "if a>0:\n",
        "    print('Positivo')\n",
        "    if a>1:\n",
        "        print(\"Maior do que 1\")\n",
        "    if a<1:\n",
        "        print(\"Menor do que 1\")\n",
        "    if a==1:\n",
        "        print(\"Igual a 1\")"
      ],
      "id": "incorporated-discussion",
      "execution_count": null,
      "outputs": [
        {
          "output_type": "stream",
          "text": [
            "O número inserido é: \n",
            "Positivo\n",
            "Menor do que 1\n"
          ],
          "name": "stdout"
        }
      ]
    },
    {
      "cell_type": "markdown",
      "metadata": {
        "id": "grand-judges"
      },
      "source": [
        "Exemplo do mesmo código sem indentação:\n"
      ],
      "id": "grand-judges"
    },
    {
      "cell_type": "code",
      "metadata": {
        "colab": {
          "base_uri": "https://localhost:8080/",
          "height": 126
        },
        "id": "present-mailing",
        "outputId": "3ec23f91-58a4-484f-c322-46d357634501"
      },
      "source": [
        "a = 0.75\n",
        "print(\"O número inserido é: \")\n",
        "if a>0:\n",
        "print('Positivo')\n",
        "if a>1:\n",
        "print(\"Maior do que 1\")\n",
        "if a<1:\n",
        "print(\"Menor do que 1\")\n",
        "if a==1:\n",
        "print(\"Igual a 1\")\n"
      ],
      "id": "present-mailing",
      "execution_count": null,
      "outputs": [
        {
          "output_type": "error",
          "ename": "IndentationError",
          "evalue": "expected an indented block (<ipython-input-7-9a2a73ff2e20>, line 4)",
          "traceback": [
            "\u001b[0;36m  File \u001b[0;32m\"<ipython-input-7-9a2a73ff2e20>\"\u001b[0;36m, line \u001b[0;32m4\u001b[0m\n\u001b[0;31m    print('Positivo')\u001b[0m\n\u001b[0m    ^\u001b[0m\n\u001b[0;31mIndentationError\u001b[0m\u001b[0;31m:\u001b[0m expected an indented block\n"
          ]
        }
      ]
    },
    {
      "cell_type": "markdown",
      "metadata": {
        "id": "entitled-fifteen"
      },
      "source": [
        "Em muitas linguagens os blocos de código são agrupados por chaves “{ }” ou blocos \"`begin`\" e \"`end`\", então a indentação acaba sendo apenas uma boa prática para deixar o código organizado. Porém, no Python, em específico, os blocos de código são separados pela indentação, sempre feita através do “Tab”.\n",
        "\n",
        "Assim, se o código não estiver indentado ou se a indentação não estiver correta, o interpretador retornará um erro. Tente executar o exemplo sem indentação para ver o que ocorre. A indentação será essencial quando estivermos tratando de estruturas de controle, laços de repetição e funções. Voltemos a falar de estruturas de controle."
      ],
      "id": "entitled-fifteen"
    },
    {
      "cell_type": "markdown",
      "metadata": {
        "id": "incomplete-hudson"
      },
      "source": [
        "## Estruturas de controle  (continuação)\n",
        "\n",
        "Já abordamos o conceito do `if`, agora vamos falar de outras duas ferramentas usadas em estruturas de controle: o `else` e o `elif`. Vimos que o `if` verifica uma determinada condição e executa uma instrução se a condição for verdadeira. Agora, se a condição for falsa e quisermos testar outra condição, podemos utilizar o comando `elif`. Escrevemos primeiro o `if` e a instrução desejada, e em seguida escrevemos o `elif`, a condição desejada e por fim a instrução, de forma similar ao `if`.\n",
        "\n",
        "```\n",
        "if <condicao 1>:\n",
        "  <bloco de comando 1>\n",
        "elif <condicao 2>:\n",
        "  <bloco de comando 2>\n",
        "```\n",
        "Onde:\n",
        "- `condicao 1` - Condição de verificação para o if\n",
        "- `bloco de comando 1` - Bloco de comando que será executado se a condição 1 for verdadeira\n",
        "- `condicao 2` - Condição de verificação para o elif. Será verificado apenas se a condicao 1 for falsa\n",
        "- `bloco de comando 2` - Bloco de comando que será executado somente se a condicao 1 for falsa e a condicao 2 for verdadeira\n"
      ],
      "id": "incomplete-hudson"
    },
    {
      "cell_type": "markdown",
      "metadata": {
        "id": "virtual-suffering"
      },
      "source": [
        "Exemplo:"
      ],
      "id": "virtual-suffering"
    },
    {
      "cell_type": "code",
      "metadata": {
        "colab": {
          "base_uri": "https://localhost:8080/"
        },
        "id": "located-fever",
        "outputId": "f1577cf4-30ae-4738-9eb9-502e46e45ff3"
      },
      "source": [
        "a = 5\n",
        "\n",
        "if a>0:\n",
        "    print(\"O número a é positivo\")\n",
        "elif a<0:\n",
        "\tprint(\"O número a é negativo\")"
      ],
      "id": "located-fever",
      "execution_count": null,
      "outputs": [
        {
          "output_type": "stream",
          "text": [
            "O número a é positivo\n"
          ],
          "name": "stdout"
        }
      ]
    },
    {
      "cell_type": "markdown",
      "metadata": {
        "id": "enormous-crawford"
      },
      "source": [
        "Vejamos agora o seguinte exemplo:\n"
      ],
      "id": "enormous-crawford"
    },
    {
      "cell_type": "code",
      "metadata": {
        "id": "healthy-transcription",
        "outputId": "80661973-eb8b-4ce4-b28b-da8508bf7432"
      },
      "source": [
        "n = 5\n",
        "\n",
        "if n>1:\n",
        "    print('O número ' + str(n) + ' é positivo e maior que 1')\n",
        "elif n>0:\n",
        "    print('O número ' + str(n) + ' é positivo e menor que 1')"
      ],
      "id": "healthy-transcription",
      "execution_count": null,
      "outputs": [
        {
          "output_type": "stream",
          "text": [
            "O número 5 é positivo e maior que 1\n"
          ],
          "name": "stdout"
        }
      ]
    },
    {
      "cell_type": "markdown",
      "metadata": {
        "id": "written-spray"
      },
      "source": [
        "Tente alterar os valores de `a` e `b` no exemplo acima. Perceba que, se a condição dada no `if` for verdadeira, o `elif` não é executado, mesmo que a condição apresentada for verdadeira. Podemos interpretar o `elif` como literalmente “se a condição anterior for falsa, verifique a seguinte condição”. O mesmo ocorre se colocarmos mais de um `elif` dentro da mesma estrutura de controle."
      ],
      "id": "written-spray"
    },
    {
      "cell_type": "markdown",
      "metadata": {
        "id": "laughing-judges"
      },
      "source": [
        "Agora, se quisermos executar uma instrução caso nenhuma das condições apresentadas forem verdadeiras, podemos utilizar o `else`. Para utilizar o `else`, devemos primeiro escrever o `if` e (se houver) os `elif` necessários, e por fim escrever `else` e o bloco de instrução desejadas. O que está dentro do `else` sempre será executado quando nenhuma das condições forem verdadeiras."
      ],
      "id": "laughing-judges"
    },
    {
      "cell_type": "markdown",
      "metadata": {
        "id": "caroline-edward"
      },
      "source": [
        "**Exemplo**: Fórmula de Bhaskara.\n",
        "\n",
        "Dada uma equação do segundo grau da forma\n",
        "$$\n",
        " a x^2 + bx + c = 0\n",
        "$$\n",
        "com coeficientes a, b e c, podemos saber o número de soluções através do **discriminante** dado por\n",
        "$$\n",
        "\\Delta = b^2 - 4ac\n",
        "$$\n",
        "tendo\n",
        "- 2 soluções reais, se $\\Delta>0$, dadas por $x' = \\frac{-b+\\sqrt{\\Delta}}{2a}$ e $x'' = \\frac{-b-\\sqrt{\\Delta}}{2a}$\n",
        "- 1 única solução real, se $\\Delta = 0$, dada por $x= \\frac{-b}{2a}$\n",
        "- nenhuma solução real se $\\Delta<0$\n",
        "\n",
        "\n",
        "Vamos fazer um programa que, dados os coeficientes $a$, $b$ e $c$, apresente quantas soluções reais a equação tem, e no caso que houver soluções apresente-as também.\n",
        "\n",
        "**Dica:** o python não possui uma função nativa para raíz quadrada, mas podemos calcular a raíz de um número usando que $\\sqrt x = x^{\\frac 1 2}$, ou seja, a raíz quadrada de `x` é calculada usando `x**(1/2)`."
      ],
      "id": "caroline-edward"
    },
    {
      "cell_type": "code",
      "metadata": {
        "id": "retained-techno",
        "outputId": "3535f90f-17ae-4411-df01-974dfd661a80"
      },
      "source": [
        "#Possível resolução\n",
        "\n",
        "a = float(input(\"Insira o valor do coeficiente a: \"))\n",
        "b = float(input(\"Insira o valor do coeficiente b: \"))\n",
        "c = float(input(\"Insira o valor do coeficiente c: \"))\n",
        "\n",
        "delta = b**2 - 4*a*c\n",
        "\n",
        "if \\:\n",
        "    x1 = (-b+delta**(1/2))/(2*a)\n",
        "    x2 = (-b-delta**(1/2))/(2*a)\n",
        "    print(\"A equação tem 2 soluções, dadas por \",x1,\" e \",x2)\n",
        "elif delta == 0:\n",
        "    x = (-b)/(2*a)\n",
        "    print(\"A equação tem 1 solução, dada por \", x)\n",
        "else:\n",
        "    print(\"A equação não possui soluções reais.\")"
      ],
      "id": "retained-techno",
      "execution_count": null,
      "outputs": [
        {
          "output_type": "stream",
          "text": [
            "Insira o valor do coeficiente a: 1\n",
            "Insira o valor do coeficiente b: -3\n",
            "Insira o valor do coeficiente c: 2\n",
            "A equação tem 2 soluções, dadas por  2.0  e  1.0\n"
          ],
          "name": "stdout"
        }
      ]
    },
    {
      "cell_type": "markdown",
      "metadata": {
        "id": "organized-mitchell"
      },
      "source": [
        "## Boolean\n",
        "\n",
        "Frequentemente ao tratar de programação temos que lidar com situações, valores e expressões lógicas (“se isso acontecer, faça isso”, “enquanto isso acontecer, faça isso”). Para isso, temos de lidar com o tipo de dado Boolean. O Boolean assume dois valores: True, equivalente ao valor lógico “verdadeiro”, e False, equivalente ao valor lógico “falso”. Podemos atribuir diretamente o valor às variáveis ou como resultado de expressões lógicas.\n",
        "\n",
        "Exemplo:\n",
        "```python\n",
        "a = True\n",
        "b = 3 < 2 # armazena False na variável b\n",
        "```\n",
        "Expressões lógicas são aquelas que tem como resultado um valor verdadeiro ou falso. Elas estão associadas a relações e comparações entre valores. Listamos os operadores de comparação na seção  Operadores caso queira mais detalhes. Vamos apenas listar alguns exemplos de expressões e seus respectivos valores lógicos:\n",
        "\n",
        "``` python\n",
        "3 < 5 #retorna True\n",
        "5 == 2+2 #retorna False\n",
        "4-1<=3 #retorna True\n",
        "3*3 != 9 #retorna False\n",
        "```\n",
        "\n",
        "**Atenção**: cuidado para não confundir o comparador de igualdade “==” com o símbolo de atribuição de valor para variáveis “=”. Apenas um sinal de igual (=) é usado para atribuição de valor em variáveis, enquanto a comparação possui dois sinais juntos (==). Se escrevemos `a=3` estamos dizendo \"*Armazene na variável `a` o valor `3`*\", e se escrevemos `a==3` estamos dizendo \"*Compare o valor de `a` com o valor `3` e verifique se são iguais*\".\n",
        "\n",
        "\n",
        "\n"
      ],
      "id": "organized-mitchell"
    },
    {
      "cell_type": "markdown",
      "metadata": {
        "id": "final-cooler"
      },
      "source": [
        "Como já listado anteriormente, temos alguns operadores que podemos usar com expressões e valores lógicos:\n",
        "### Operador “not”\n",
        "O operador not, na lógica chamado de Negação ou “não”, apenas inverte o valor lógico da expressão ou da variável. Se for o valor for True, retorna False, e se o valor for False,  retorna True. Exemplo:\n",
        "\n",
        "```python\n",
        "not 3 == 2 # retorna True\n",
        "not 1 < 2 # retorna False\n",
        "```\n",
        "\n",
        "### Operador “and”\n",
        "O operador and, na lógica chamado Conjunção ou “e”, é um operador que envolve sempre dois valores e retorna verdade apenas quando os dois valores são True. Exemplo:\n",
        "\n",
        "```python\n",
        "3>=2 and 2+2==4 #retorna True\n",
        "3<=2 and 6-2==4 # retorna False\n",
        "3*3==7 and 6-3==4 #retorna False\n",
        "```\n",
        "\n",
        "### Operador “or”\n",
        "O operador or, na lógica chamado Conjunção ou “ou”, é um operador que envolve sempre dois valores e retorna verdade quando ao menos um dos valores for True. Exemplo:\n",
        "\n",
        "```python\n",
        "1 > 2 or 4/2==1+1 #retorna True\n",
        "+1==6 #retorna True\n",
        "3==5 or 12-2==10 #retorna True\n",
        "3+3>10 or 3*2<0 #retorna False    \n",
        "\n",
        "```\n",
        "\n"
      ],
      "id": "final-cooler"
    },
    {
      "cell_type": "markdown",
      "metadata": {
        "id": "boolean-candy"
      },
      "source": [
        "Podemos montar expressões lógicas com mais de um operador lógico, apenas é necessário cuidar com a ordem de prioridade dos operadores. Destacando que as operações matemáticas são realizadas sempre antes das lógicas e em seguida são realizadas as operações de comparação. Por fim são feitas as operações lógicas, que seguem a seguinte prioridade:\n",
        "\n",
        "Parênteses internos -> not -> and -> or"
      ],
      "id": "boolean-candy"
    },
    {
      "cell_type": "markdown",
      "source": [
        "### Exemplo:\n",
        "\n",
        "Queremos determinar se um número $x$ informado está no intervalo $[-1,1]$. Lembrando, um intervalo é o conjunto de números:\n",
        "$$\n",
        "[-1,1] = \\{x \\in \\mathbb R : -1 \\leq x \\leq1 \\}\n",
        "$$\n",
        "\n",
        "Abaixo, um possível código para resolução."
      ],
      "metadata": {
        "id": "L5QKyv2u4C48"
      },
      "id": "L5QKyv2u4C48"
    },
    {
      "cell_type": "code",
      "source": [
        "inp_x = input(\"Insira um número qualquer\")\n",
        "x = float(inp_x)\n",
        "if -1<=x and x<=1:\n",
        "  print(\"O número está dentro do intervalo\")\n",
        "else:\n",
        "  print(\"O número está fora do intervalo\")"
      ],
      "metadata": {
        "id": "JrIkGI4Z4piI"
      },
      "id": "JrIkGI4Z4piI",
      "execution_count": null,
      "outputs": []
    },
    {
      "cell_type": "markdown",
      "metadata": {
        "id": "laughing-advice"
      },
      "source": [
        "## Laços de Repetição\n",
        "\n",
        "Laços de Repetição são estruturas que nos permitem executar determinada instrução repetidamente de acordo com alguma condição. Funciona similarmente a um `if`: apresentamos uma variável booleana ou expressão lógica, caso for verdadeira o bloco de comando logo abaixo será executado e a condição será verificada novamente, e se a condição permanecer verdadeira o comando é executado novamente, e assim sucessivamente até que a condição se torne falsa.\n",
        "\n",
        "No Python temos duas formas de fazer laços de repetição: o `while` e o `for`. Comecemos utilizando o while. Para utilizar o `while`, começamos escrevendo esse comando junto a expressão lógica ou variável booleana desejada, e em seguida escrevemos o bloco de código que desejamos que seja executado enquanto a condição for verdadeira.\n",
        "\n",
        "```python\n",
        "`while` <condição>:\n",
        "\t<bloco de comando>\n",
        "\n",
        "```\n"
      ],
      "id": "laughing-advice"
    },
    {
      "cell_type": "markdown",
      "source": [],
      "metadata": {
        "id": "rgXW50YnAQK2"
      },
      "id": "rgXW50YnAQK2"
    },
    {
      "cell_type": "code",
      "metadata": {
        "id": "driving-saturday",
        "colab": {
          "base_uri": "https://localhost:8080/"
        },
        "outputId": "6d7daa45-d489-4f32-f70e-1be1c0e0aaef"
      },
      "source": [
        "i = 1\n",
        "while i<=10:\n",
        "  print(i)\n",
        "  i+=1"
      ],
      "id": "driving-saturday",
      "execution_count": null,
      "outputs": [
        {
          "output_type": "stream",
          "name": "stdout",
          "text": [
            "1\n",
            "2\n",
            "3\n",
            "4\n",
            "5\n",
            "6\n",
            "7\n",
            "8\n",
            "9\n",
            "10\n"
          ]
        }
      ]
    },
    {
      "cell_type": "markdown",
      "metadata": {
        "id": "comprehensive-marijuana"
      },
      "source": [
        "Veja que estamos alterando o tempo todo o valor da variável i dentro do while. Chamamos esse tipo de variável que usamos como referência de Iterador, uma variável que percorrerá todos os valores no intervalo especificado, e será utilizado como referência na condição do while."
      ],
      "id": "comprehensive-marijuana"
    },
    {
      "cell_type": "markdown",
      "source": [
        "Exemplo: Façamos um programa que exiba os quadrados dos números de 1 até 10"
      ],
      "metadata": {
        "id": "eMm1SUTTA67z"
      },
      "id": "eMm1SUTTA67z"
    },
    {
      "cell_type": "code",
      "source": [
        "i = 1\n",
        "while i<=10:\n",
        "  x = i**2\n",
        "  print(\"O quadrado de \" + str(i) + \" é \" + str(x))\n",
        "  i += 1"
      ],
      "metadata": {
        "colab": {
          "base_uri": "https://localhost:8080/"
        },
        "id": "M8iWTUKtAwBg",
        "outputId": "ee92e34b-cb4d-447d-a53e-15c0bffbf89f"
      },
      "id": "M8iWTUKtAwBg",
      "execution_count": null,
      "outputs": [
        {
          "output_type": "stream",
          "name": "stdout",
          "text": [
            "O quadrado de 1 é 1\n",
            "O quadrado de 2 é 4\n",
            "O quadrado de 3 é 9\n",
            "O quadrado de 4 é 16\n",
            "O quadrado de 5 é 25\n",
            "O quadrado de 6 é 36\n",
            "O quadrado de 7 é 49\n",
            "O quadrado de 8 é 64\n",
            "O quadrado de 9 é 81\n",
            "O quadrado de 10 é 100\n"
          ]
        }
      ]
    },
    {
      "cell_type": "markdown",
      "source": [
        "Além disso podemos utilizar uma variável auxiliar chamada de Contador, literalmente uma variável que será utilizada para contar o número de vezes que uma determinada situação acontece."
      ],
      "metadata": {
        "id": "HBiCzrd2At71"
      },
      "id": "HBiCzrd2At71"
    },
    {
      "cell_type": "markdown",
      "source": [
        "###Exemplo:\n",
        "\n",
        "Vamos fazer um programa que recebe um número do usuário, conta e apresenta o número de divisores desse número. Sabemos que um número é divisor do outro quando o resto da divisão de um pelo outro é 0, ou seja, `a` é divisor de `n` se `n%a == 0`"
      ],
      "metadata": {
        "id": "J63rB1LACVh0"
      },
      "id": "J63rB1LACVh0"
    },
    {
      "cell_type": "code",
      "metadata": {
        "colab": {
          "base_uri": "https://localhost:8080/"
        },
        "id": "northern-spyware",
        "outputId": "f38b5b5d-55b0-428f-c9d6-4972ccac6079"
      },
      "source": [
        "i = 1\n",
        "cont = 0\n",
        "entrada = input(\"Insira um número: \")\n",
        "n = int(entrada)\n",
        "while i<=n:\n",
        "  if(n%i==0):\n",
        "\t  \tcont+=1\n",
        "  i += 1\n",
        "print(\"Número de divisores: \")\n",
        "print(cont)\n"
      ],
      "id": "northern-spyware",
      "execution_count": null,
      "outputs": [
        {
          "output_type": "stream",
          "name": "stdout",
          "text": [
            "Insira um número: 8\n",
            "Número de divisores: \n",
            "4\n"
          ]
        }
      ]
    },
    {
      "cell_type": "markdown",
      "metadata": {
        "id": "lyric-surfing"
      },
      "source": [
        "Podemos trabalhar ainda com a ideia de um *acumulador*, que é uma variável que vai acumulando uma soma, produto ou qualquer operação em cima do valor iterado, ou de qualquer outra iteração.\n",
        "\n",
        "### Exemplo:\n",
        "\n",
        "Façamos um programa que receba um número inteiro `n` qualquer e apresente na tela a soma de todos os números de 1 até `n`, ou seja, a soma:\n",
        "$$\n",
        "1 + 2 + \\cdots + n\n",
        "$$"
      ],
      "id": "lyric-surfing"
    },
    {
      "cell_type": "code",
      "metadata": {
        "id": "overhead-harmony"
      },
      "source": [
        "# Possível resolução\n",
        "n = input(\"Insira um número inteiro: \")\n",
        "n = int(n)\n",
        "\n",
        "i = 1\n",
        "soma = 0\n",
        "while i <=n:\n",
        "    soma += i\n",
        "    i += 1\n",
        "\n",
        "\n",
        "print(\"A soma é:\",soma)"
      ],
      "id": "overhead-harmony",
      "execution_count": null,
      "outputs": []
    },
    {
      "cell_type": "markdown",
      "source": [
        "Não necessariamente teremos processos com um número específico de repetições, às vezes a parada é determinada por uma condição que não sabemos quando ocorrerá."
      ],
      "metadata": {
        "id": "X51GNOgcCu76"
      },
      "id": "X51GNOgcCu76"
    },
    {
      "cell_type": "markdown",
      "metadata": {
        "id": "fancy-blink"
      },
      "source": [
        "### Exemplo: Conjectura de Collatz.\n",
        "\n",
        "A Conjectura de Collatz é um problema que funciona da seguinte forma: dado um número natural n qualquer diferente de 0 e 1:\n",
        "\n",
        "- se ele for par dividimos ele por 2\n",
        "- se for ímpar multiplicamos por 3 e somamos 1,\n",
        "\n",
        "e fazemos esse processo várias vezes até que o número se torne 1.\n",
        "\n",
        "Façamos um programa que faça esse processo para um número natural n dado pelo usuário, apresentando na tela o número em cada passo e no final mostrando o número de passos. O código fica da seguinte forma:\n",
        "\n"
      ],
      "id": "fancy-blink"
    },
    {
      "cell_type": "code",
      "metadata": {
        "id": "exact-heating",
        "outputId": "520d7725-568a-4f5d-bc31-4c689d4b93a0"
      },
      "source": [
        "#Possível solução\n",
        "entrada = input(\"Insira um número: \")\n",
        "n = int(entrada)\n",
        "cont = 0\n",
        "while n!=1:\n",
        "\tif n%2==0: #testamos se o número é par\n",
        "\t\tn = n//2\n",
        "\telse:\n",
        "\t\tn = 3*n + 1\n",
        "\tcont += 1\n",
        "\tprint(n)\n",
        "print(\"Número de passos: \" + str(cont))"
      ],
      "id": "exact-heating",
      "execution_count": null,
      "outputs": [
        {
          "output_type": "stream",
          "text": [
            "Insira um número: 6\n",
            "3\n",
            "10\n",
            "5\n",
            "16\n",
            "8\n",
            "4\n",
            "2\n",
            "1\n",
            "Número de passos: 8\n"
          ],
          "name": "stdout"
        }
      ]
    }
  ]
}